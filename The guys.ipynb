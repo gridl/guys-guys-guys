{
 "metadata": {
  "name": ""
 },
 "nbformat": 3,
 "nbformat_minor": 0,
 "worksheets": [
  {
   "cells": [
    {
     "cell_type": "code",
     "collapsed": false,
     "input": [
      "import pandas as pd\n",
      "pd.set_option('display.mpl_style', 'default')\n",
      "figsize(15, 5)"
     ],
     "language": "python",
     "metadata": {},
     "outputs": [],
     "prompt_number": 79
    },
    {
     "cell_type": "code",
     "collapsed": false,
     "input": [
      "import prettyplotlib"
     ],
     "language": "python",
     "metadata": {},
     "outputs": [],
     "prompt_number": 81
    },
    {
     "cell_type": "code",
     "collapsed": false,
     "input": [
      "def fixup(df):\n",
      "    df = df.copy()\n",
      "    fixed_questions = list(df.columns)\n",
      "    fixed_questions.remove(\" though.\")\n",
      "    fixed_questions.append(\"???\")\n",
      "    df.columns = fixed_questions\n",
      "    return df"
     ],
     "language": "python",
     "metadata": {},
     "outputs": [],
     "prompt_number": 87
    },
    {
     "cell_type": "code",
     "collapsed": false,
     "input": [
      "def get_answer_ratios(df):\n",
      "    questions = df.columns[:-3]\n",
      "    ratios = pd.concat([df[col].value_counts() for col in questions], axis=1)\n",
      "    short_questions = [\"Hey guys\", \"the guys\", \"a Python guy\", \"the Java guys\", \"a good guy\", \"Those guys\", \"Erlang guy\"]\n",
      "    ratios.columns = short_questions\n",
      "    ratios = ratios.T\n",
      "    sums = ratios.sum(axis=1).astype(float)\n",
      "    return ratios['gender neutral'] / sums"
     ],
     "language": "python",
     "metadata": {},
     "outputs": [],
     "prompt_number": 104
    },
    {
     "cell_type": "code",
     "collapsed": false,
     "input": [
      "df = pd.read_csv('./guys-guys-guys-no-email.csv', parse_dates=True, index_col='Timestamp')"
     ],
     "language": "python",
     "metadata": {},
     "outputs": [],
     "prompt_number": 105
    },
    {
     "cell_type": "code",
     "collapsed": false,
     "input": [
      "everyone = fixup(df)"
     ],
     "language": "python",
     "metadata": {},
     "outputs": [],
     "prompt_number": 106
    },
    {
     "cell_type": "code",
     "collapsed": false,
     "input": [
      "women = everyone[everyone['Do you identify as a woman?'] == 'Yes']\n",
      "men = everyone[everyone['Do you identify as a woman?'] == 'No']"
     ],
     "language": "python",
     "metadata": {},
     "outputs": [],
     "prompt_number": 107
    },
    {
     "cell_type": "code",
     "collapsed": false,
     "input": [
      "summary = pd.concat([get_answer_ratios(everyone), get_answer_ratios(men), get_answer_ratios(women)], axis=1)\n",
      "summary.columns = ['Everyone', 'men', 'women']"
     ],
     "language": "python",
     "metadata": {},
     "outputs": [],
     "prompt_number": 112
    },
    {
     "cell_type": "code",
     "collapsed": false,
     "input": [
      "summary.sort('Everyone').plot(kind='bar', title=\"Percentage of people who think it's gender neutral\")"
     ],
     "language": "python",
     "metadata": {},
     "outputs": [
      {
       "metadata": {},
       "output_type": "pyout",
       "prompt_number": 120,
       "text": [
        "<matplotlib.axes.AxesSubplot at 0x7574790>"
       ]
      },
      {
       "metadata": {},
       "output_type": "display_data",
       "png": "[encoded data removed]",
       "text": [
        "<matplotlib.figure.Figure at 0x6f5d990>"
       ]
      }
     ],
     "prompt_number": 120
    }
   ],
   "metadata": {}
  }
 ]
}